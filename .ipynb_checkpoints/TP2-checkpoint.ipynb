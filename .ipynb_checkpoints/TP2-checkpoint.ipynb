{
 "cells": [
  {
   "cell_type": "markdown",
   "metadata": {},
   "source": [
    "# 1. Título: Aeronaves - Drones cadastrados"
   ]
  },
  {
   "cell_type": "markdown",
   "metadata": {},
   "source": [
    "## 2. Membros\n",
    "- Danilo Pimentel de Carvalho Costa - 2016058077\n",
    "- Dione Jessé Mendes Silva - 2014132130\n",
    "- Gabriel Lucas Freire Martins e Silva - 2017023250\n",
    "- Ícaro Kened Torres Neto - 2016077195"
   ]
  },
  {
   "cell_type": "markdown",
   "metadata": {},
   "source": [
    "## 3. Descrição dos dados\n",
    "O grupo escolheu o conjunto de dados relacionados ao cadastro de drones, feito pela ANAC. Os dados podem ser encontrados nesta URL: http://dados.gov.br/dataset/aeronaves-drones-cadastrados."
   ]
  },
  {
   "cell_type": "markdown",
   "metadata": {},
   "source": [
    "## 4. Diagrama ER\n",
    "![Diagrama ER](diagrama-er.png \"Diagrama ER\")"
   ]
  },
  {
   "cell_type": "markdown",
   "metadata": {},
   "source": [
    "## 5. Diagrama relacional\n",
    "![Diagrama relacional](diagrama-relacional.png \"Diagrama relacional\")"
   ]
  },
  {
   "cell_type": "markdown",
   "metadata": {},
   "source": [
    "## 6. Consultas"
   ]
  },
  {
   "cell_type": "code",
   "execution_count": 22,
   "metadata": {
    "scrolled": true
   },
   "outputs": [
    {
     "name": "stdout",
     "output_type": "stream",
     "text": [
      "Step 1 - Reading data\n",
      "Reading file content...\n",
      "Creating dataframe...\n",
      "Step 1 - Done!\n"
     ]
    }
   ],
   "source": [
    "FILE_ENCODING = \"ISO-8859-1\"\n",
    "FILE_NAME = \"SISANT.csv\"\n",
    "FILE_URL = 'http://sistemas.anac.gov.br/dadosabertos/Aeronaves/drones%20cadastrados/SISANT.csv'\n",
    "\n",
    "import pandas as pd\n",
    "import requests\n",
    "from io import BytesIO, StringIO\n",
    "from requests.packages.urllib3.exceptions import InsecureRequestWarning\n",
    "from pathlib import Path\n",
    "import codecs\n",
    "\n",
    "print('Step 1 - Reading data')\n",
    "\n",
    "# If the source file is not present, then request from the data source\n",
    "if not Path(FILE_NAME).is_file():\n",
    "    print('Disabling insecure request warnings...')\n",
    "    requests.packages.urllib3.disable_warnings(InsecureRequestWarning)\n",
    "    print('Requesting data from source...')\n",
    "    r = requests.get(FILE_URL, verify=False)\n",
    "    print('Writing data to file...')\n",
    "    f = codecs.open(FILE_NAME, \"w\", FILE_ENCODING)\n",
    "    f.write(r.content)\n",
    "    f.close()\n",
    "\n",
    "print('Reading file content...')\n",
    "content = Path(FILE_NAME).read_text(encoding = ENCODING)\n",
    "\n",
    "print('Creating dataframe...')\n",
    "df = pd.read_csv(StringIO(content[23:]))\n",
    "\n",
    "print('Step 1 - Done!')"
   ]
  },
  {
   "cell_type": "code",
   "execution_count": 83,
   "metadata": {
    "scrolled": true
   },
   "outputs": [
    {
     "name": "stdout",
     "output_type": "stream",
     "text": [
      "Step 2 - Creating dataframes...\n",
      "Creating dataframe \"operador\"...\n",
      "Done!\n",
      "\n",
      "Creating dataframe \"licenca\"...\n",
      "Done!\n",
      "\n",
      "Creating dataframe \"drone\"...\n",
      "Done!\n",
      "\n",
      "Creating dataframe \"ramo\"...\n",
      "Done!\n",
      "\n",
      "Creating dataframe \"modelo\"...\n",
      "Done!\n",
      "\n",
      "Creating dataframe \"fabricante\"...\n",
      "Done!\n",
      "\n",
      "Step 2 - Done!\n"
     ]
    }
   ],
   "source": [
    "def make_dataframe(main_df, main_df_columns, new_column_names):\n",
    "    new_df = main_df[main_df_columns].drop_duplicates()\n",
    "    new_df.columns = new_column_names\n",
    "    return new_df\n",
    "\n",
    "print('Step 2 - Creating dataframes...')\n",
    "            \n",
    "print('Creating dataframe \"operador\"...')\n",
    "df_operador = make_dataframe(\n",
    "    df,\n",
    "    [\"CPF/CNPJ\", \"Operador\", \"Cidade-Estado\"],\n",
    "    [\"cpf_cnpj\", \"nome\", \"cidade_estado\"]\n",
    ")\n",
    "print('Done!\\n')\n",
    "\n",
    "print('Creating dataframe \"licenca\"...')\n",
    "df_licenca = make_dataframe(\n",
    "    df,\n",
    "    [\"CPF/CNPJ\", \"Número de serie\", \"Tipo Uso\", \"Data Validade\"],\n",
    "    [\"cpf_cnpj\", \"n_serie\", \"tipo_uso\", \"data_validade\"]\n",
    ")\n",
    "print('Done!\\n')\n",
    "\n",
    "print('Creating dataframe \"drone\"...')\n",
    "df_drone = make_dataframe(\n",
    "    df,\n",
    "    [\"Número de serie\", \"Peso máximo de decolagem (Kg)\", \"Ramo de atividade\", \"Modelo\"],\n",
    "    [\"n_serie\", \"peso_max\", \"ramo\", \"modelo\"]\n",
    ")\n",
    "print('Done!\\n')\n",
    "\n",
    "print('Creating dataframe \"ramo\"...')\n",
    "df_ramo = make_dataframe(\n",
    "    df,\n",
    "    [\"Ramo de atividade\"],\n",
    "    [\"ramo\"],\n",
    ")\n",
    "print('Done!\\n')\n",
    "\n",
    "print('Creating dataframe \"modelo\"...')\n",
    "df_modelo = make_dataframe(\n",
    "    df,\n",
    "    [\"Modelo\", \"Fabricante\"],\n",
    "    [\"modelo\", \"fabricante\"]\n",
    ")\n",
    "print('Done!\\n')\n",
    "\n",
    "print('Creating dataframe \"fabricante\"...')\n",
    "df_fabricante = make_dataframe(\n",
    "    df,\n",
    "    [\"Fabricante\"],\n",
    "    [\"fabricante\"]\n",
    ")\n",
    "print('Done!\\n')\n",
    "\n",
    "print('Step 2 - Done!')"
   ]
  },
  {
   "cell_type": "code",
   "execution_count": 84,
   "metadata": {},
   "outputs": [
    {
     "name": "stdout",
     "output_type": "stream",
     "text": [
      "Step 3 - Creating relationships...\n",
      "Making relationship drone-ramo...\n",
      "Done!\n",
      "\n",
      "Making relationship drone-modelo...\n",
      "Done!\n",
      "\n",
      "Making relationship modelo-fabricante...\n",
      "Done!\n",
      "\n",
      "Step 3 - Done!\n"
     ]
    }
   ],
   "source": [
    "def make_1_n_relationship(df1, df2, rel_column_name, match_column_name):\n",
    "    df1[rel_column_name] = -1\n",
    "    for index, row in df1.iterrows():\n",
    "        rel_loc = df2.loc[df2[match_column_name] == row[match_column_name]]\n",
    "        if not rel_loc.empty:\n",
    "            df1.at[index, rel_column_name] = rel_loc.index[0]\n",
    "    del df1[match_column_name]\n",
    "\n",
    "print('Step 3 - Creating relationships...')\n",
    "\n",
    "print('Making relationship drone-ramo...')\n",
    "make_1_n_relationship(df_drone, df_ramo, \"ramo_id\", \"ramo\")\n",
    "print('Done!\\n')\n",
    "\n",
    "print('Making relationship drone-modelo...')\n",
    "make_1_n_relationship(df_drone, df_modelo, \"modelo_id\", \"modelo\")\n",
    "print('Done!\\n')\n",
    "\n",
    "print('Making relationship modelo-fabricante...')\n",
    "make_1_n_relationship(df_modelo, df_fabricante, \"fabricante_id\", \"fabricante\")\n",
    "print('Done!\\n')\n",
    "\n",
    "print('Step 3 - Done!')"
   ]
  },
  {
   "cell_type": "code",
   "execution_count": 85,
   "metadata": {},
   "outputs": [
    {
     "name": "stdout",
     "output_type": "stream",
     "text": [
      "Step 4 - Creating ids and renaming columns...\n",
      "Creating ids for \"ramo\"...\n",
      "Done!\n",
      "\n",
      "Creating ids for \"modelo\"...\n",
      "Done!\n",
      "\n",
      "Creating ids for \"fabricante\"...\n",
      "Done!\n",
      "\n",
      "Renaming columns for \"ramo\"...\n",
      "Done!\n",
      "\n",
      "Renaming columns for \"modelo\"...\n",
      "Done!\n",
      "\n",
      "Renaming columns for \"fabricante\"...\n",
      "Done!\n",
      "\n",
      "Step 4 - Done!\n"
     ]
    }
   ],
   "source": [
    "def make_id_column(dataframe, id_column_name):\n",
    "    dataframe[id_column_name] = -1\n",
    "    for index, row in dataframe.iterrows():\n",
    "        dataframe.at[index, id_column_name] = index\n",
    "\n",
    "print('Step 4 - Creating ids and renaming columns...')\n",
    "\n",
    "print('Creating ids for \"ramo\"...')\n",
    "make_id_column(df_ramo, \"id\")\n",
    "print('Done!\\n')\n",
    "\n",
    "print('Creating ids for \"modelo\"...')\n",
    "make_id_column(df_modelo, \"id\")\n",
    "print('Done!\\n')\n",
    "\n",
    "print('Creating ids for \"fabricante\"...')\n",
    "make_id_column(df_fabricante, \"id\")\n",
    "print('Done!\\n')\n",
    "\n",
    "print('Renaming columns for \"ramo\"...')\n",
    "df_ramo = df_ramo[[\"id\", \"ramo\"]]\n",
    "df_ramo.columns = [\"id\", \"nome\"]\n",
    "print('Done!\\n')\n",
    "\n",
    "print('Renaming columns for \"modelo\"...')\n",
    "df_modelo = df_modelo[[\"id\", \"modelo\", \"fabricante_id\"]]\n",
    "df_modelo.columns = [\"id\", \"nome\", \"fabricante_id\"]\n",
    "print('Done!\\n')\n",
    "\n",
    "print('Renaming columns for \"fabricante\"...')\n",
    "df_fabricante = df_fabricante[[\"id\", \"fabricante\"]]\n",
    "df_fabricante.columns = [\"id\", \"nome\"]\n",
    "print('Done!\\n')\n",
    "\n",
    "print('Step 4 - Done!')"
   ]
  },
  {
   "cell_type": "code",
   "execution_count": 86,
   "metadata": {},
   "outputs": [
    {
     "name": "stdout",
     "output_type": "stream",
     "text": [
      "\n",
      "Saving to db\n",
      "\n",
      "Saving \"operador\" to db...\n",
      "Done!\n",
      "\n",
      "Saving \"licenca\" to db...\n",
      "Done!\n",
      "\n",
      "Saving \"drone\" to db...\n",
      "Done!\n",
      "\n",
      "Saving \"ramo\" to db...\n",
      "Done!\n",
      "\n",
      "Saving \"modelo\" to db...\n",
      "Done!\n",
      "\n",
      "Saving \"fabricante\" to db...\n",
      "Done!\n",
      "\n",
      "Step 2 - Done!\n"
     ]
    }
   ],
   "source": [
    "import sqlite3\n",
    "\n",
    "def df2sqlite(dataframe, tbl_name = \"import\", db_name = \"tp2.sqlite\"):\n",
    "  conn = sqlite3.connect(db_name)\n",
    "  cur = conn.cursor()                                 \n",
    " \n",
    "  wildcards = ','.join(['?'] * len(dataframe.columns))              \n",
    "  data = [tuple(x) for x in dataframe.values]\n",
    " \n",
    "  cur.execute(\"drop table if exists %s\" % tbl_name)\n",
    " \n",
    "  col_str = '\"' + '\",\"'.join(dataframe.columns) + '\"'\n",
    "  cur.execute(\"create table %s (%s)\" % (tbl_name, col_str))\n",
    " \n",
    "  cur.executemany(\"insert into %s values(%s)\" % (tbl_name, wildcards), data)\n",
    " \n",
    "  conn.commit()\n",
    "  conn.close()\n",
    "\n",
    "print('\\nSaving to db\\n')\n",
    "\n",
    "print('Saving \"operador\" to db...')\n",
    "df2sqlite(df_operador, \"operador\")\n",
    "print('Done!\\n')\n",
    "\n",
    "print('Saving \"licenca\" to db...')\n",
    "df2sqlite(df_licenca, \"licenca\")\n",
    "print('Done!\\n')\n",
    "\n",
    "print('Saving \"drone\" to db...')\n",
    "df2sqlite(df_drone, \"drone\")\n",
    "print('Done!\\n')\n",
    "\n",
    "print('Saving \"ramo\" to db...')\n",
    "df2sqlite(df_ramo, \"ramo\")\n",
    "print('Done!\\n')\n",
    "\n",
    "print('Saving \"modelo\" to db...')\n",
    "df2sqlite(df_modelo, \"modelo\")\n",
    "print('Done!\\n')\n",
    "\n",
    "print('Saving \"fabricante\" to db...')\n",
    "df2sqlite(df_fabricante, \"fabricante\")\n",
    "print('Done!\\n')\n",
    "\n",
    "print('Step 2 - Done!')"
   ]
  },
  {
   "cell_type": "markdown",
   "metadata": {},
   "source": [
    "### 6.1 Duas consultas envolvendo seleção e projeção"
   ]
  },
  {
   "cell_type": "markdown",
   "metadata": {},
   "source": [
    "#### 6.1.1 Consulta 1 (duas versões)"
   ]
  },
  {
   "cell_type": "markdown",
   "metadata": {},
   "source": [
    "#### 6.1.2 Consulta 2 (duas versões)"
   ]
  },
  {
   "cell_type": "markdown",
   "metadata": {},
   "source": [
    "### 6.2 Três consultas envolvendo junção de duas relações"
   ]
  },
  {
   "cell_type": "markdown",
   "metadata": {},
   "source": [
    "#### 6.2.1 Consulta 3 (duas versões)"
   ]
  },
  {
   "cell_type": "markdown",
   "metadata": {},
   "source": [
    "#### 6.2.2 Consulta 4 (duas versões)"
   ]
  },
  {
   "cell_type": "markdown",
   "metadata": {},
   "source": [
    "#### 6.2.3 Consulta 5 (duas versões)"
   ]
  },
  {
   "cell_type": "markdown",
   "metadata": {},
   "source": [
    "### 6.3 Três consultas envolvendo junção de três ou mais relações"
   ]
  },
  {
   "cell_type": "markdown",
   "metadata": {},
   "source": [
    "#### 6.3.1 Consulta 6 (duas versões)"
   ]
  },
  {
   "cell_type": "markdown",
   "metadata": {},
   "source": [
    "#### 6.3.2 Consulta 7 (duas versões)"
   ]
  },
  {
   "cell_type": "markdown",
   "metadata": {},
   "source": [
    "#### 6.3.3 Consulta 8 (duas versões)"
   ]
  },
  {
   "cell_type": "markdown",
   "metadata": {},
   "source": [
    "### 6.4 Duas consultas envolvendo agregação sobre junção de duas ou mais relações"
   ]
  },
  {
   "cell_type": "markdown",
   "metadata": {},
   "source": [
    "#### 6.4.1 Consulta 9 (duas versões)"
   ]
  },
  {
   "cell_type": "markdown",
   "metadata": {},
   "source": [
    "#### 6.4.2 Consulta 10 (duas versões)"
   ]
  },
  {
   "cell_type": "markdown",
   "metadata": {},
   "source": [
    "## 7. Autoavaliação dos membros"
   ]
  },
  {
   "cell_type": "code",
   "execution_count": null,
   "metadata": {},
   "outputs": [],
   "source": []
  }
 ],
 "metadata": {
  "kernelspec": {
   "display_name": "Python 3",
   "language": "python",
   "name": "python3"
  },
  "language_info": {
   "codemirror_mode": {
    "name": "ipython",
    "version": 3
   },
   "file_extension": ".py",
   "mimetype": "text/x-python",
   "name": "python",
   "nbconvert_exporter": "python",
   "pygments_lexer": "ipython3",
   "version": "3.7.3"
  }
 },
 "nbformat": 4,
 "nbformat_minor": 2
}
