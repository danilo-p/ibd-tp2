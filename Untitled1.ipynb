{
 "cells": [
  {
   "cell_type": "code",
   "execution_count": 7,
   "metadata": {},
   "outputs": [
    {
     "name": "stdout",
     "output_type": "stream",
     "text": [
      "('hey',)\n"
     ]
    }
   ],
   "source": [
    "import sqlite3\n",
    "\n",
    "def exec_sql(db_name, sql):\n",
    "    conn = sqlite3.connect(db_name)\n",
    "    cur = conn.cursor()                               \n",
    "    cur.execute(sql)\n",
    "    rows = cur.fetchall()\n",
    "    conn.commit()\n",
    "    conn.close()\n",
    "    return rows\n",
    "\n",
    "def find_record(tbl_name, condition):\n",
    "    return exec_sql('test.db', \"SELECT * FROM %s WHERE %s\" % (tbl_name, condition))[0]\n",
    "\n",
    "exec_sql('test.db', 'drop table if exists test')\n",
    "exec_sql('test.db', 'create table test (name)')\n",
    "exec_sql('test.db', 'insert into test values (\"hey\")')\n",
    "print(find_record('test', 'name = \"hey\"'))"
   ]
  },
  {
   "cell_type": "code",
   "execution_count": null,
   "metadata": {},
   "outputs": [],
   "source": []
  }
 ],
 "metadata": {
  "kernelspec": {
   "display_name": "Python 3",
   "language": "python",
   "name": "python3"
  },
  "language_info": {
   "codemirror_mode": {
    "name": "ipython",
    "version": 3
   },
   "file_extension": ".py",
   "mimetype": "text/x-python",
   "name": "python",
   "nbconvert_exporter": "python",
   "pygments_lexer": "ipython3",
   "version": "3.7.3"
  }
 },
 "nbformat": 4,
 "nbformat_minor": 2
}
