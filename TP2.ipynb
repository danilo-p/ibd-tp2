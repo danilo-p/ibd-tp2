{
 "cells": [
  {
   "cell_type": "markdown",
   "metadata": {},
   "source": [
    "# 1. Título: Aeronaves - Drones cadastrados"
   ]
  },
  {
   "cell_type": "markdown",
   "metadata": {},
   "source": [
    "## 2. Membros\n",
    "- Danilo Pimentel de Carvalho Costa - 2016058077\n",
    "- Dione Jessé Mendes Silva - 2014132130\n",
    "- Gabriel Lucas Freire Martins e Silva - 2017023250\n",
    "- Ícaro Kened Torres Neto - 2016077195"
   ]
  },
  {
   "cell_type": "markdown",
   "metadata": {},
   "source": [
    "## 3. Descrição dos dados\n",
    "O grupo escolheu o conjunto de dados relacionados ao cadastro de drones, feito pela ANAC. Os dados podem ser encontrados nesta URL: http://dados.gov.br/dataset/aeronaves-drones-cadastrados."
   ]
  },
  {
   "cell_type": "markdown",
   "metadata": {},
   "source": [
    "## 4. Diagrama ER\n",
    "![Diagrama ER](diagrama-er.png \"Diagrama ER\")"
   ]
  },
  {
   "cell_type": "markdown",
   "metadata": {},
   "source": [
    "## 5. Diagrama relacional\n",
    "![Diagrama relacional](diagrama-relacional.png \"Diagrama relacional\")"
   ]
  },
  {
   "cell_type": "markdown",
   "metadata": {},
   "source": [
    "## 6. Consultas"
   ]
  },
  {
   "cell_type": "code",
   "execution_count": 96,
   "metadata": {
    "scrolled": true
   },
   "outputs": [
    {
     "name": "stdout",
     "output_type": "stream",
     "text": [
      "Step 1 - Reading data\n",
      "Reading file content...\n",
      "Creating dataframe...\n",
      "Step 1 - Done!\n"
     ]
    }
   ],
   "source": [
    "FILE_ENCODING = \"ISO-8859-1\"\n",
    "FILE_NAME = \"SISANT.csv\"\n",
    "FILE_URL = 'http://sistemas.anac.gov.br/dadosabertos/Aeronaves/drones%20cadastrados/SISANT.csv'\n",
    "\n",
    "import pandas as pd\n",
    "import requests\n",
    "from io import BytesIO, StringIO\n",
    "from requests.packages.urllib3.exceptions import InsecureRequestWarning\n",
    "from pathlib import Path\n",
    "import codecs\n",
    "\n",
    "print('Step 1 - Reading data')\n",
    "\n",
    "# If the source file is not present, then request from the data source\n",
    "if not Path(FILE_NAME).is_file():\n",
    "    print('Disabling insecure request warnings...')\n",
    "    requests.packages.urllib3.disable_warnings(InsecureRequestWarning)\n",
    "    print('Requesting data from source...')\n",
    "    r = requests.get(FILE_URL, verify=False)\n",
    "    print('Writing data to file...')\n",
    "    f = codecs.open(FILE_NAME, \"w\", FILE_ENCODING)\n",
    "    f.write(r.content)\n",
    "    f.close()\n",
    "\n",
    "print('Reading file content...')\n",
    "content = Path(FILE_NAME).read_text(encoding = ENCODING)\n",
    "\n",
    "print('Creating dataframe...')\n",
    "df = pd.read_csv(StringIO(content[23:]))\n",
    "\n",
    "print('Step 1 - Done!')"
   ]
  },
  {
   "cell_type": "code",
   "execution_count": 97,
   "metadata": {
    "scrolled": true
   },
   "outputs": [
    {
     "name": "stdout",
     "output_type": "stream",
     "text": [
      "Step 2 - Creating dataframes...\n",
      "Creating dataframe \"operador\"...\n",
      "Done!\n",
      "\n",
      "Creating dataframe \"licenca\"...\n",
      "Done!\n",
      "\n",
      "Creating dataframe \"drone\"...\n",
      "Done!\n",
      "\n",
      "Creating dataframe \"ramo\"...\n",
      "Done!\n",
      "\n",
      "Creating dataframe \"modelo\"...\n",
      "Done!\n",
      "\n",
      "Creating dataframe \"fabricante\"...\n",
      "Done!\n",
      "\n",
      "Step 2 - Done!\n"
     ]
    }
   ],
   "source": [
    "def make_dataframe(main_df, main_df_columns, new_column_names):\n",
    "    new_df = main_df[main_df_columns].drop_duplicates()\n",
    "    new_df.columns = new_column_names\n",
    "    return new_df\n",
    "\n",
    "print('Step 2 - Creating dataframes...')\n",
    "            \n",
    "print('Creating dataframe \"operador\"...')\n",
    "df_operador = make_dataframe(\n",
    "    df,\n",
    "    [\"CPF/CNPJ\", \"Operador\", \"Cidade-Estado\"],\n",
    "    [\"cpf_cnpj\", \"nome\", \"cidade_estado\"]\n",
    ")\n",
    "print('Done!\\n')\n",
    "\n",
    "print('Creating dataframe \"licenca\"...')\n",
    "df_licenca = make_dataframe(\n",
    "    df,\n",
    "    [\"CPF/CNPJ\", \"Número de serie\", \"Tipo Uso\", \"Data Validade\"],\n",
    "    [\"cpf_cnpj\", \"n_serie\", \"tipo_uso\", \"data_validade\"]\n",
    ")\n",
    "print('Done!\\n')\n",
    "\n",
    "print('Creating dataframe \"drone\"...')\n",
    "df_drone = make_dataframe(\n",
    "    df,\n",
    "    [\"Número de serie\", \"Peso máximo de decolagem (Kg)\", \"Ramo de atividade\", \"Modelo\"],\n",
    "    [\"n_serie\", \"peso_max\", \"ramo\", \"modelo\"]\n",
    ")\n",
    "print('Done!\\n')\n",
    "\n",
    "print('Creating dataframe \"ramo\"...')\n",
    "df_ramo = make_dataframe(\n",
    "    df,\n",
    "    [\"Ramo de atividade\"],\n",
    "    [\"ramo\"],\n",
    ")\n",
    "print('Done!\\n')\n",
    "\n",
    "print('Creating dataframe \"modelo\"...')\n",
    "df_modelo = make_dataframe(\n",
    "    df,\n",
    "    [\"Modelo\", \"Fabricante\"],\n",
    "    [\"modelo\", \"fabricante\"]\n",
    ")\n",
    "print('Done!\\n')\n",
    "\n",
    "print('Creating dataframe \"fabricante\"...')\n",
    "df_fabricante = make_dataframe(\n",
    "    df,\n",
    "    [\"Fabricante\"],\n",
    "    [\"fabricante\"]\n",
    ")\n",
    "print('Done!\\n')\n",
    "\n",
    "print('Step 2 - Done!')"
   ]
  },
  {
   "cell_type": "code",
   "execution_count": 98,
   "metadata": {},
   "outputs": [
    {
     "name": "stdout",
     "output_type": "stream",
     "text": [
      "Step 3 - Creating relationships...\n",
      "Making relationship drone-ramo...\n",
      "Done!\n",
      "\n",
      "Making relationship drone-modelo...\n",
      "Done!\n",
      "\n",
      "Making relationship modelo-fabricante...\n",
      "Done!\n",
      "\n",
      "Step 3 - Done!\n"
     ]
    }
   ],
   "source": [
    "def make_1_n_relationship(df1, df2, rel_column_name, match_column_name):\n",
    "    df1[rel_column_name] = -1\n",
    "    for index, row in df1.iterrows():\n",
    "        rel_loc = df2.loc[df2[match_column_name] == row[match_column_name]]\n",
    "        if not rel_loc.empty:\n",
    "            df1.at[index, rel_column_name] = rel_loc.index[0]\n",
    "    del df1[match_column_name]\n",
    "\n",
    "print('Step 3 - Creating relationships...')\n",
    "\n",
    "print('Making relationship drone-ramo...')\n",
    "make_1_n_relationship(df_drone, df_ramo, \"ramo_id\", \"ramo\")\n",
    "print('Done!\\n')\n",
    "\n",
    "print('Making relationship drone-modelo...')\n",
    "make_1_n_relationship(df_drone, df_modelo, \"modelo_id\", \"modelo\")\n",
    "print('Done!\\n')\n",
    "\n",
    "print('Making relationship modelo-fabricante...')\n",
    "make_1_n_relationship(df_modelo, df_fabricante, \"fabricante_id\", \"fabricante\")\n",
    "print('Done!\\n')\n",
    "\n",
    "print('Step 3 - Done!')"
   ]
  },
  {
   "cell_type": "code",
   "execution_count": 99,
   "metadata": {},
   "outputs": [
    {
     "name": "stdout",
     "output_type": "stream",
     "text": [
      "Step 4 - Creating ids and renaming columns...\n",
      "Creating ids for \"ramo\"...\n",
      "Done!\n",
      "\n",
      "Creating ids for \"modelo\"...\n",
      "Done!\n",
      "\n",
      "Creating ids for \"fabricante\"...\n",
      "Done!\n",
      "\n",
      "Renaming columns for \"ramo\"...\n",
      "Done!\n",
      "\n",
      "Renaming columns for \"modelo\"...\n",
      "Done!\n",
      "\n",
      "Renaming columns for \"fabricante\"...\n",
      "Done!\n",
      "\n",
      "Step 4 - Done!\n"
     ]
    }
   ],
   "source": [
    "def make_id_column(dataframe, id_column_name):\n",
    "    dataframe[id_column_name] = -1\n",
    "    for index, row in dataframe.iterrows():\n",
    "        dataframe.at[index, id_column_name] = index\n",
    "\n",
    "print('Step 4 - Creating ids and renaming columns...')\n",
    "\n",
    "print('Creating ids for \"ramo\"...')\n",
    "make_id_column(df_ramo, \"id\")\n",
    "print('Done!\\n')\n",
    "\n",
    "print('Creating ids for \"modelo\"...')\n",
    "make_id_column(df_modelo, \"id\")\n",
    "print('Done!\\n')\n",
    "\n",
    "print('Creating ids for \"fabricante\"...')\n",
    "make_id_column(df_fabricante, \"id\")\n",
    "print('Done!\\n')\n",
    "\n",
    "print('Renaming columns for \"ramo\"...')\n",
    "df_ramo = df_ramo[[\"id\", \"ramo\"]]\n",
    "df_ramo.columns = [\"id\", \"nome\"]\n",
    "print('Done!\\n')\n",
    "\n",
    "print('Renaming columns for \"modelo\"...')\n",
    "df_modelo = df_modelo[[\"id\", \"modelo\", \"fabricante_id\"]]\n",
    "df_modelo.columns = [\"id\", \"nome\", \"fabricante_id\"]\n",
    "print('Done!\\n')\n",
    "\n",
    "print('Renaming columns for \"fabricante\"...')\n",
    "df_fabricante = df_fabricante[[\"id\", \"fabricante\"]]\n",
    "df_fabricante.columns = [\"id\", \"nome\"]\n",
    "print('Done!\\n')\n",
    "\n",
    "print('Step 4 - Done!')"
   ]
  },
  {
   "cell_type": "code",
   "execution_count": 100,
   "metadata": {},
   "outputs": [
    {
     "name": "stdout",
     "output_type": "stream",
     "text": [
      "Step 5 - Saving to db\n",
      "\n",
      "Creating table \"operador\"...\n",
      "Done!\n",
      "\n",
      "Creating table \"fabricante\"...\n",
      "Done!\n",
      "\n",
      "Creating table \"modelo\"...\n",
      "Done!\n",
      "\n",
      "Creating table \"ramo\"...\n",
      "Done!\n",
      "\n",
      "Creating table \"drone\"...\n",
      "Done!\n",
      "\n",
      "Creating table \"licenca\"...\n",
      "Done!\n",
      "\n",
      "Populating table \"operador\"...\n"
     ]
    },
    {
     "ename": "IntegrityError",
     "evalue": "UNIQUE constraint failed: operador.cpf_cnpj",
     "output_type": "error",
     "traceback": [
      "\u001b[0;31m---------------------------------------------------------------------------\u001b[0m",
      "\u001b[0;31mIntegrityError\u001b[0m                            Traceback (most recent call last)",
      "\u001b[0;32m<ipython-input-100-67ffead82c5c>\u001b[0m in \u001b[0;36m<module>\u001b[0;34m\u001b[0m\n\u001b[1;32m     93\u001b[0m \u001b[0;34m\u001b[0m\u001b[0m\n\u001b[1;32m     94\u001b[0m \u001b[0mprint\u001b[0m\u001b[0;34m(\u001b[0m\u001b[0;34m'Populating table \"operador\"...'\u001b[0m\u001b[0;34m)\u001b[0m\u001b[0;34m\u001b[0m\u001b[0;34m\u001b[0m\u001b[0m\n\u001b[0;32m---> 95\u001b[0;31m \u001b[0mpopulate_table\u001b[0m\u001b[0;34m(\u001b[0m\u001b[0;34m\"operador\"\u001b[0m\u001b[0;34m,\u001b[0m \u001b[0mdf_operador\u001b[0m\u001b[0;34m)\u001b[0m\u001b[0;34m;\u001b[0m\u001b[0;34m\u001b[0m\u001b[0;34m\u001b[0m\u001b[0m\n\u001b[0m\u001b[1;32m     96\u001b[0m \u001b[0mprint\u001b[0m\u001b[0;34m(\u001b[0m\u001b[0;34m'Done!\\n'\u001b[0m\u001b[0;34m)\u001b[0m\u001b[0;34m\u001b[0m\u001b[0;34m\u001b[0m\u001b[0m\n\u001b[1;32m     97\u001b[0m \u001b[0;34m\u001b[0m\u001b[0m\n",
      "\u001b[0;32m<ipython-input-100-67ffead82c5c>\u001b[0m in \u001b[0;36mpopulate_table\u001b[0;34m(tbl_name, dataframe)\u001b[0m\n\u001b[1;32m     25\u001b[0m     \u001b[0mwildcards\u001b[0m \u001b[0;34m=\u001b[0m \u001b[0;34m','\u001b[0m\u001b[0;34m.\u001b[0m\u001b[0mjoin\u001b[0m\u001b[0;34m(\u001b[0m\u001b[0;34m[\u001b[0m\u001b[0;34m'?'\u001b[0m\u001b[0;34m]\u001b[0m \u001b[0;34m*\u001b[0m \u001b[0mlen\u001b[0m\u001b[0;34m(\u001b[0m\u001b[0mdataframe\u001b[0m\u001b[0;34m.\u001b[0m\u001b[0mcolumns\u001b[0m\u001b[0;34m)\u001b[0m\u001b[0;34m)\u001b[0m\u001b[0;34m\u001b[0m\u001b[0;34m\u001b[0m\u001b[0m\n\u001b[1;32m     26\u001b[0m     \u001b[0mdata\u001b[0m \u001b[0;34m=\u001b[0m \u001b[0;34m[\u001b[0m\u001b[0mtuple\u001b[0m\u001b[0;34m(\u001b[0m\u001b[0mx\u001b[0m\u001b[0;34m)\u001b[0m \u001b[0;32mfor\u001b[0m \u001b[0mx\u001b[0m \u001b[0;32min\u001b[0m \u001b[0mdataframe\u001b[0m\u001b[0;34m.\u001b[0m\u001b[0mvalues\u001b[0m\u001b[0;34m]\u001b[0m\u001b[0;34m\u001b[0m\u001b[0;34m\u001b[0m\u001b[0m\n\u001b[0;32m---> 27\u001b[0;31m     \u001b[0mcur\u001b[0m\u001b[0;34m.\u001b[0m\u001b[0mexecutemany\u001b[0m\u001b[0;34m(\u001b[0m\u001b[0;34m\"insert into %s values(%s)\"\u001b[0m \u001b[0;34m%\u001b[0m \u001b[0;34m(\u001b[0m\u001b[0mtbl_name\u001b[0m\u001b[0;34m,\u001b[0m \u001b[0mwildcards\u001b[0m\u001b[0;34m)\u001b[0m\u001b[0;34m,\u001b[0m \u001b[0mdata\u001b[0m\u001b[0;34m)\u001b[0m\u001b[0;34m\u001b[0m\u001b[0;34m\u001b[0m\u001b[0m\n\u001b[0m\u001b[1;32m     28\u001b[0m     \u001b[0mconn\u001b[0m\u001b[0;34m.\u001b[0m\u001b[0mcommit\u001b[0m\u001b[0;34m(\u001b[0m\u001b[0;34m)\u001b[0m\u001b[0;34m\u001b[0m\u001b[0;34m\u001b[0m\u001b[0m\n\u001b[1;32m     29\u001b[0m     \u001b[0mconn\u001b[0m\u001b[0;34m.\u001b[0m\u001b[0mclose\u001b[0m\u001b[0;34m(\u001b[0m\u001b[0;34m)\u001b[0m\u001b[0;34m\u001b[0m\u001b[0;34m\u001b[0m\u001b[0m\n",
      "\u001b[0;31mIntegrityError\u001b[0m: UNIQUE constraint failed: operador.cpf_cnpj"
     ]
    }
   ],
   "source": [
    "DB_NAME = \"tp2.sqlite\"\n",
    "\n",
    "import sqlite3\n",
    "\n",
    "def toggle_foreign_keys(enable = True):\n",
    "    global DB_NAME\n",
    "    conn = sqlite3.connect(DB_NAME)\n",
    "    conn.execute(\"PRAGMA foreign_keys = %d\" % (1 if enable else 0))\n",
    "    conn.commit()\n",
    "    conn.close()\n",
    "    \n",
    "def create_table(tbl_name, fields):\n",
    "    global DB_NAME\n",
    "    conn = sqlite3.connect(DB_NAME)\n",
    "    cur = conn.cursor()                               \n",
    "    cur.execute(\"drop table if exists %s\" % tbl_name)\n",
    "    cur.execute(\"create table %s (%s)\" % (tbl_name, ','.join(fields)))\n",
    "    conn.commit()\n",
    "    conn.close()\n",
    "    \n",
    "def populate_table(tbl_name, dataframe):\n",
    "    global DB_NAME\n",
    "    conn = sqlite3.connect(DB_NAME)\n",
    "    cur = conn.cursor()                              \n",
    "    wildcards = ','.join(['?'] * len(dataframe.columns))              \n",
    "    data = [tuple(x) for x in dataframe.values]\n",
    "    cur.executemany(\"insert into %s values(%s)\" % (tbl_name, wildcards), data)\n",
    "    conn.commit()\n",
    "    conn.close()\n",
    "\n",
    "print('Step 5 - Saving to db\\n')\n",
    "\n",
    "print('Creating table \"operador\"...')\n",
    "create_table(\"operador\", [\n",
    "    \"cpf_cnpj VARCHAR(50)\",\n",
    "    \"nome VARCHAR(200)\",\n",
    "    \"cidade_estado VARCHAR(50)\",\n",
    "    \"PRIMARY KEY (cpf_cnpj)\"\n",
    "])\n",
    "print('Done!\\n')\n",
    "\n",
    "print('Creating table \"fabricante\"...')\n",
    "create_table(\"fabricante\", [\n",
    "    \"id INT AUTO INCREMENT\",\n",
    "    \"nome VARCHAR(200)\",\n",
    "    \"PRIMARY KEY (id)\"\n",
    "])\n",
    "print('Done!\\n')\n",
    "\n",
    "print('Creating table \"modelo\"...')\n",
    "create_table(\"modelo\", [\n",
    "    \"id INT AUTO INCREMENT\",\n",
    "    \"nome VARCHAR(200)\",\n",
    "    \"fabricante_id INT\",\n",
    "    \"PRIMARY KEY (id)\",\n",
    "    \"FOREIGN KEY (fabricante_id) REFERENCES fabricante(id)\"\n",
    "])\n",
    "print('Done!\\n')\n",
    "\n",
    "print('Creating table \"ramo\"...')\n",
    "create_table(\"ramo\", [\n",
    "    \"id INT AUTO INCREMENT\",\n",
    "    \"nome VARCHAR(200)\",\n",
    "    \"PRIMARY KEY (id)\"\n",
    "])\n",
    "print('Done!\\n')\n",
    "\n",
    "print('Creating table \"drone\"...')\n",
    "create_table(\"drone\", [\n",
    "    \"n_serie VARCHAR(50)\",\n",
    "    \"peso_max FLOAT\",\n",
    "    \"ramo_id INT\",\n",
    "    \"modelo_id INT\",\n",
    "    \"PRIMARY KEY (n_serie)\",\n",
    "    \"FOREIGN KEY (ramo_id) REFERENCES ramo(id)\",\n",
    "    \"FOREIGN KEY (modelo_id) REFERENCES modelo(id)\"\n",
    "])\n",
    "print('Done!\\n')\n",
    "\n",
    "print('Creating table \"licenca\"...')\n",
    "create_table(\"licenca\", [\n",
    "    \"cpf_cnpj VARCHAR(50)\",\n",
    "    \"n_serie VARCHAR(50)\",\n",
    "    \"tipo_uso VARCHAR(50) NOT NULL\",\n",
    "    \"data_validade DATE NOT NULL\",\n",
    "    \"PRIMARY KEY (cpf_cnpj, n_serie)\",\n",
    "    \"FOREIGN KEY (cpf_cnpj) REFERENCES operador(cpf_cnpj)\",\n",
    "    \"FOREIGN KEY (n_serie) REFERENCES drone(n_serie)\"\n",
    "])\n",
    "print('Done!\\n')\n",
    "\n",
    "toggle_foreign_keys(False)\n",
    "\n",
    "print('Populating table \"operador\"...')\n",
    "populate_table(\"operador\", df_operador);\n",
    "print('Done!\\n')\n",
    "\n",
    "print('Populating table \"fabricante\"...')\n",
    "populate_table(\"fabricante\", df_fabricante);\n",
    "print('Done!\\n')\n",
    "\n",
    "print('Populating table \"modelo\"...')\n",
    "populate_table(\"modelo\", df_modelo);\n",
    "print('Done!\\n')\n",
    "\n",
    "print('Populating table \"ramo\" ...')\n",
    "populate_table(\"ramo\", df_ramo);\n",
    "print('Done!\\n')\n",
    "\n",
    "print('Populating table \"drone\"...')\n",
    "populate_table(\"drone\", df_drone);\n",
    "print('Done!\\n')\n",
    "\n",
    "print('Populating table \"licenca\"...')\n",
    "populate_table(\"licenca\", df_licenca);\n",
    "print('Done!\\n')\n",
    "\n",
    "toggle_foreign_keys(True)\n",
    "\n",
    "print('Step 5 - Done!')"
   ]
  },
  {
   "cell_type": "markdown",
   "metadata": {},
   "source": [
    "### 6.1 Duas consultas envolvendo seleção e projeção"
   ]
  },
  {
   "cell_type": "markdown",
   "metadata": {},
   "source": [
    "#### 6.1.1 Consulta 1 (duas versões)"
   ]
  },
  {
   "cell_type": "markdown",
   "metadata": {},
   "source": [
    "#### 6.1.2 Consulta 2 (duas versões)"
   ]
  },
  {
   "cell_type": "markdown",
   "metadata": {},
   "source": [
    "### 6.2 Três consultas envolvendo junção de duas relações"
   ]
  },
  {
   "cell_type": "markdown",
   "metadata": {},
   "source": [
    "#### 6.2.1 Consulta 3 (duas versões)"
   ]
  },
  {
   "cell_type": "markdown",
   "metadata": {},
   "source": [
    "#### 6.2.2 Consulta 4 (duas versões)"
   ]
  },
  {
   "cell_type": "markdown",
   "metadata": {},
   "source": [
    "#### 6.2.3 Consulta 5 (duas versões)"
   ]
  },
  {
   "cell_type": "markdown",
   "metadata": {},
   "source": [
    "### 6.3 Três consultas envolvendo junção de três ou mais relações"
   ]
  },
  {
   "cell_type": "markdown",
   "metadata": {},
   "source": [
    "#### 6.3.1 Consulta 6 (duas versões)"
   ]
  },
  {
   "cell_type": "markdown",
   "metadata": {},
   "source": [
    "#### 6.3.2 Consulta 7 (duas versões)"
   ]
  },
  {
   "cell_type": "markdown",
   "metadata": {},
   "source": [
    "#### 6.3.3 Consulta 8 (duas versões)"
   ]
  },
  {
   "cell_type": "markdown",
   "metadata": {},
   "source": [
    "### 6.4 Duas consultas envolvendo agregação sobre junção de duas ou mais relações"
   ]
  },
  {
   "cell_type": "markdown",
   "metadata": {},
   "source": [
    "#### 6.4.1 Consulta 9 (duas versões)"
   ]
  },
  {
   "cell_type": "markdown",
   "metadata": {},
   "source": [
    "#### 6.4.2 Consulta 10 (duas versões)"
   ]
  },
  {
   "cell_type": "markdown",
   "metadata": {},
   "source": [
    "## 7. Autoavaliação dos membros"
   ]
  },
  {
   "cell_type": "code",
   "execution_count": null,
   "metadata": {},
   "outputs": [],
   "source": []
  }
 ],
 "metadata": {
  "kernelspec": {
   "display_name": "Python 3",
   "language": "python",
   "name": "python3"
  },
  "language_info": {
   "codemirror_mode": {
    "name": "ipython",
    "version": 3
   },
   "file_extension": ".py",
   "mimetype": "text/x-python",
   "name": "python",
   "nbconvert_exporter": "python",
   "pygments_lexer": "ipython3",
   "version": "3.7.3"
  }
 },
 "nbformat": 4,
 "nbformat_minor": 2
}
