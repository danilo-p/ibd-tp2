{
 "cells": [
  {
   "cell_type": "markdown",
   "metadata": {},
   "source": [
    "# 1. Título: Aeronaves - Drones cadastrados"
   ]
  },
  {
   "cell_type": "markdown",
   "metadata": {},
   "source": [
    "## 2. Membros\n",
    "- Danilo Pimentel de Carvalho Costa - 2016058077\n",
    "- Dione Jessé Mendes Silva - 2014132130\n",
    "- Gabriel Lucas Freire Martins e Silva - 2017023250\n",
    "- Ícaro Kened Torres Neto - 2016077195"
   ]
  },
  {
   "cell_type": "markdown",
   "metadata": {},
   "source": [
    "## 3. Descrição dos dados\n",
    "O grupo escolheu o conjunto de dados relacionados ao cadastro de drones, feito pela ANAC. Os dados podem ser encontrados nesta URL: http://dados.gov.br/dataset/aeronaves-drones-cadastrados."
   ]
  },
  {
   "cell_type": "markdown",
   "metadata": {},
   "source": [
    "## 4. Diagrama ER\n",
    "![Diagrama ER](diagrama-er.png \"Diagrama ER\")"
   ]
  },
  {
   "cell_type": "markdown",
   "metadata": {},
   "source": [
    "## 5. Diagrama relacional\n",
    "![Diagrama relacional](diagrama-relacional.png \"Diagrama relacional\")"
   ]
  },
  {
   "cell_type": "markdown",
   "metadata": {},
   "source": [
    "## 6. Consultas"
   ]
  },
  {
   "cell_type": "code",
   "execution_count": null,
   "metadata": {},
   "outputs": [],
   "source": [
    "FILE_ENCODING = \"ISO-8859-1\"\n",
    "FILE_NAME = \"SISANT.csv\"\n",
    "FILE_URL = 'http://sistemas.anac.gov.br/dadosabertos/Aeronaves/drones%20cadastrados/SISANT.csv'\n",
    "\n",
    "import pandas as pd\n",
    "import requests\n",
    "from io import BytesIO, StringIO\n",
    "from requests.packages.urllib3.exceptions import InsecureRequestWarning\n",
    "from pathlib import Path\n",
    "import codecs\n",
    "\n",
    "print('Step 1 - Reading data')\n",
    "\n",
    "# If the source file is not present, then request from the data source\n",
    "if not Path(FILE_NAME).is_file():\n",
    "    print('Disabling insecure request warnings...')\n",
    "    requests.packages.urllib3.disable_warnings(InsecureRequestWarning)\n",
    "    print('Requesting data from source...')\n",
    "    r = requests.get(FILE_URL, verify=False)\n",
    "    print('Writing data to file...')\n",
    "    f = codecs.open(FILE_NAME, \"w\", FILE_ENCODING)\n",
    "    f.write(r.content)\n",
    "    f.close()\n",
    "\n",
    "print('Reading file content...')\n",
    "content = Path(FILE_NAME).read_text(encoding = FILE_ENCODING)\n",
    "\n",
    "print('Creating dataframe...')\n",
    "df = pd.read_csv(StringIO(content[23:]))\n",
    "\n",
    "df = df[[\n",
    "    \"Data Validade\",\n",
    "    \"Operador\",\n",
    "    \"CPF/CNPJ\",\n",
    "    \"Tipo Uso\",\n",
    "    \"Fabricante\",\n",
    "    \"Modelo\",\n",
    "    \"Número de serie\",\n",
    "    \"Peso máximo de decolagem (Kg)\",\n",
    "    \"Cidade-Estado\",\n",
    "    \"Ramo de atividade\"\n",
    "]]\n",
    "\n",
    "df.columns = [\n",
    "    \"licenca_data_validade\",\n",
    "    \"operador_nome\",\n",
    "    \"operador_cpf_cnpj\",\n",
    "    \"licenca_tipo_uso\",\n",
    "    \"fabricante_nome\",\n",
    "    \"modelo_nome\",\n",
    "    \"drone_n_serie\",\n",
    "    \"drone_peso_max\",\n",
    "    \"operador_cidade_estado\",\n",
    "    \"ramo_nome\"\n",
    "]\n",
    "\n",
    "print('Step 1 - Done!')"
   ]
  },
  {
   "cell_type": "code",
   "execution_count": null,
   "metadata": {},
   "outputs": [],
   "source": [
    "# SQL utilities\n",
    "\n",
    "DB_NAME = \"tp2.db\"\n",
    "\n",
    "import sqlite3\n",
    "\n",
    "def exec_sql(sql):\n",
    "    global DB_NAME\n",
    "    conn = sqlite3.connect(DB_NAME)\n",
    "    cur = conn.cursor()                               \n",
    "    cur.execute(sql)\n",
    "    rows = cur.fetchall()\n",
    "    conn.commit()\n",
    "    conn.close()\n",
    "    return rows\n",
    "\n",
    "def exec_many_sql(sql, data):\n",
    "    global DB_NAME\n",
    "    conn = sqlite3.connect(DB_NAME)\n",
    "    cur = conn.cursor()                               \n",
    "    cur.executemany(sql, data)\n",
    "    rows = cur.fetchall()\n",
    "    conn.commit()\n",
    "    conn.close()\n",
    "    return rows\n",
    "\n",
    "def toggle_foreign_keys(enable = True):\n",
    "    exec_sql(\"PRAGMA foreign_keys = %d\" % (1 if enable else 0))\n",
    "    \n",
    "def create_table(tbl_name, fields):\n",
    "    exec_sql(\"DROP TABLE IF EXISTS %s\" % tbl_name)\n",
    "    exec_sql(\"CREATE TABLE %s (%s)\" % (tbl_name, ','.join(fields)))\n",
    "\n",
    "def sanitize(value):\n",
    "    return str(value).replace('\"', \"\").replace(\"'\", \"\") if (type(value) is str) else str(value)\n",
    "    \n",
    "def find_record(tbl_name, condition):\n",
    "    results = exec_sql(\"SELECT * FROM %s WHERE %s\" % (tbl_name, condition))\n",
    "    if results:\n",
    "        return results[0]\n",
    "    return None\n",
    "\n",
    "def insert_record(tbl_name, columns, values):\n",
    "    values = [(sanitize(value)) for value in values]\n",
    "    exec_sql(\"INSERT INTO %s (%s) VALUES (%s)\" % (tbl_name, ','.join(columns), '\"' + '\",\"'.join(values) + '\"'))"
   ]
  },
  {
   "cell_type": "code",
   "execution_count": null,
   "metadata": {},
   "outputs": [],
   "source": [
    "print('Step 2 - Creating tables...\\n')\n",
    "\n",
    "print('Creating table \"operador\"...')\n",
    "create_table(\"operador\", [\n",
    "    \"operador_id INTEGER PRIMARY KEY AUTOINCREMENT\",\n",
    "    \"cpf_cnpj VARCHAR(50)\",\n",
    "    \"nome VARCHAR(200)\",\n",
    "    \"cidade_estado VARCHAR(50)\"\n",
    "])\n",
    "print('Done!\\n')\n",
    "\n",
    "print('Creating table \"fabricante\"...')\n",
    "create_table(\"fabricante\", [\n",
    "    \"fabricante_id INTEGER PRIMARY KEY AUTOINCREMENT\",\n",
    "    \"nome VARCHAR(200)\",\n",
    "])\n",
    "print('Done!\\n')\n",
    "\n",
    "print('Creating table \"modelo\"...')\n",
    "create_table(\"modelo\", [\n",
    "    \"modelo_id INTEGER PRIMARY KEY AUTOINCREMENT\",\n",
    "    \"nome VARCHAR(200)\",\n",
    "    \"fabricante_id INTEGER\",\n",
    "    \"FOREIGN KEY (fabricante_id) REFERENCES fabricante(fabricante_id)\"\n",
    "])\n",
    "print('Done!\\n')\n",
    "\n",
    "print('Creating table \"ramo\"...')\n",
    "create_table(\"ramo\", [\n",
    "    \"ramo_id INTEGER PRIMARY KEY AUTOINCREMENT\",\n",
    "    \"nome VARCHAR(200)\",\n",
    "])\n",
    "print('Done!\\n')\n",
    "\n",
    "print('Creating table \"drone\"...')\n",
    "create_table(\"drone\", [\n",
    "    \"n_serie VARCHAR(50) PRIMARY KEY\",\n",
    "    \"peso_max FLOAT\",\n",
    "    \"ramo_id INTEGER\",\n",
    "    \"modelo_id INTEGER\",\n",
    "    \"FOREIGN KEY (ramo_id) REFERENCES ramo(ramo_id)\",\n",
    "    \"FOREIGN KEY (modelo_id) REFERENCES modelo(modelo_id)\"\n",
    "])\n",
    "print('Done!\\n')\n",
    "\n",
    "print('Creating table \"licenca\"...')\n",
    "create_table(\"licenca\", [\n",
    "    \"operador_id INTEGER\",\n",
    "    \"n_serie VARCHAR(50)\",\n",
    "    \"tipo_uso VARCHAR(50) NOT NULL\",\n",
    "    \"data_validade DATE NOT NULL\",\n",
    "    \"PRIMARY KEY (operador_id, n_serie)\",\n",
    "    \"FOREIGN KEY (operador_id) REFERENCES operador(operador_id)\",\n",
    "    \"FOREIGN KEY (n_serie) REFERENCES drone(n_serie)\"\n",
    "])\n",
    "print('Done!\\n')\n",
    "\n",
    "print('Step 2 - Done!')"
   ]
  },
  {
   "cell_type": "code",
   "execution_count": null,
   "metadata": {},
   "outputs": [],
   "source": [
    "import re\n",
    "\n",
    "def create_operador(row):\n",
    "    if not find_record(\"operador\", 'nome = \"%s\"' % sanitize(row[\"operador_nome\"])):\n",
    "        insert_record(\"operador\", [\"cpf_cnpj\", \"nome\", \"cidade_estado\"], [\n",
    "            row[\"operador_cpf_cnpj\"],\n",
    "            row[\"operador_nome\"],\n",
    "            row[\"operador_cidade_estado\"]\n",
    "        ])\n",
    "        \n",
    "def create_fabricante(row):\n",
    "    if not find_record(\"fabricante\", 'nome = \"%s\"' % sanitize(row[\"fabricante_nome\"])):\n",
    "        insert_record(\"fabricante\", [\"nome\"], [\n",
    "            row[\"fabricante_nome\"]\n",
    "        ])\n",
    "\n",
    "def create_modelo(row):\n",
    "    fabricante_id = find_record(\"fabricante\", 'nome = \"%s\"' % sanitize(row[\"fabricante_nome\"]))[0]\n",
    "    if not find_record(\"modelo\", 'nome = \"%s\"' % sanitize(row[\"modelo_nome\"])):\n",
    "        insert_record(\"modelo\", [\"nome\", \"fabricante_id\"], [\n",
    "            row[\"modelo_nome\"],\n",
    "            fabricante_id\n",
    "        ])\n",
    "        \n",
    "def create_ramo(row):\n",
    "    if not find_record(\"ramo\", 'nome = \"%s\"' % sanitize(row[\"ramo_nome\"])):\n",
    "        insert_record(\"ramo\", [\"nome\"], [\n",
    "            row[\"ramo_nome\"]\n",
    "        ])\n",
    "        \n",
    "def create_drone(row):\n",
    "    ramo_id = find_record(\"ramo\", 'nome = \"%s\"' % sanitize(row[\"ramo_nome\"]))[0]\n",
    "    modelo_id = find_record(\"modelo\", 'nome = \"%s\"' % sanitize(row[\"modelo_nome\"]))[0]\n",
    "    if not find_record(\"drone\", 'n_serie = \"%s\"' % sanitize(row[\"drone_n_serie\"])):\n",
    "        insert_record(\"drone\", [\"n_serie\", \"peso_max\", \"ramo_id\", \"modelo_id\"], [\n",
    "            row[\"drone_n_serie\"],\n",
    "            row[\"drone_peso_max\"],\n",
    "            ramo_id,\n",
    "            modelo_id,\n",
    "        ])\n",
    "        \n",
    "def create_licenca(row):\n",
    "    operador_id = find_record(\"operador\", 'nome = \"%s\"' % sanitize(row[\"operador_nome\"]))[0]\n",
    "    n_serie = find_record(\"drone\", 'n_serie = \"%s\"' % sanitize(row[\"drone_n_serie\"]))[0]\n",
    "    if not find_record(\"licenca\", 'operador_id = %s AND n_serie = \"%s\"' % (sanitize(operador_id), sanitize(n_serie))):\n",
    "        insert_record(\"licenca\", [\"operador_id\", \"n_serie\", \"tipo_uso\", \"data_validade\"], [\n",
    "            operador_id,\n",
    "            n_serie,\n",
    "            row[\"licenca_tipo_uso\"],\n",
    "            row[\"licenca_data_validade\"],\n",
    "        ])\n",
    "\n",
    "def create_records(row):\n",
    "    create_operador(row)\n",
    "    create_fabricante(row)\n",
    "    create_modelo(row)\n",
    "    create_ramo(row)\n",
    "    create_drone(row)\n",
    "    create_licenca(row)\n",
    "\n",
    "print('Step 3 - Creating records...')\n",
    "\n",
    "toggle_foreign_keys(False)\n",
    "\n",
    "for index, row in df.iterrows():\n",
    "    create_records(row)\n",
    "\n",
    "toggle_foreign_keys(True)\n",
    "\n",
    "print('Step 3 - Done!')"
   ]
  },
  {
   "cell_type": "markdown",
   "metadata": {},
   "source": [
    "### 6.1 Duas consultas envolvendo seleção e projeção"
   ]
  },
  {
   "cell_type": "markdown",
   "metadata": {},
   "source": [
    "#### 6.1.1 Consulta 1 (duas versões)"
   ]
  },
  {
   "cell_type": "markdown",
   "metadata": {},
   "source": [
    "#### 6.1.2 Consulta 2 (duas versões)"
   ]
  },
  {
   "cell_type": "markdown",
   "metadata": {},
   "source": [
    "### 6.2 Três consultas envolvendo junção de duas relações"
   ]
  },
  {
   "cell_type": "markdown",
   "metadata": {},
   "source": [
    "#### 6.2.1 Consulta 3 (duas versões)"
   ]
  },
  {
   "cell_type": "markdown",
   "metadata": {},
   "source": [
    "#### 6.2.2 Consulta 4 (duas versões)"
   ]
  },
  {
   "cell_type": "markdown",
   "metadata": {},
   "source": [
    "#### 6.2.3 Consulta 5 (duas versões)"
   ]
  },
  {
   "cell_type": "markdown",
   "metadata": {},
   "source": [
    "### 6.3 Três consultas envolvendo junção de três ou mais relações"
   ]
  },
  {
   "cell_type": "markdown",
   "metadata": {},
   "source": [
    "#### 6.3.1 Consulta 6 (duas versões)"
   ]
  },
  {
   "cell_type": "markdown",
   "metadata": {},
   "source": [
    "#### 6.3.2 Consulta 7 (duas versões)"
   ]
  },
  {
   "cell_type": "markdown",
   "metadata": {},
   "source": [
    "#### 6.3.3 Consulta 8 (duas versões)"
   ]
  },
  {
   "cell_type": "markdown",
   "metadata": {},
   "source": [
    "### 6.4 Duas consultas envolvendo agregação sobre junção de duas ou mais relações"
   ]
  },
  {
   "cell_type": "markdown",
   "metadata": {},
   "source": [
    "#### 6.4.1 Consulta 9 (duas versões)"
   ]
  },
  {
   "cell_type": "markdown",
   "metadata": {},
   "source": [
    "#### 6.4.2 Consulta 10 (duas versões)"
   ]
  },
  {
   "cell_type": "markdown",
   "metadata": {},
   "source": [
    "## 7. Autoavaliação dos membros"
   ]
  },
  {
   "cell_type": "code",
   "execution_count": null,
   "metadata": {},
   "outputs": [],
   "source": []
  }
 ],
 "metadata": {
  "kernelspec": {
   "display_name": "Python 3",
   "language": "python",
   "name": "python3"
  },
  "language_info": {
   "codemirror_mode": {
    "name": "ipython",
    "version": 3
   },
   "file_extension": ".py",
   "mimetype": "text/x-python",
   "name": "python",
   "nbconvert_exporter": "python",
   "pygments_lexer": "ipython3",
   "version": "3.7.3"
  }
 },
 "nbformat": 4,
 "nbformat_minor": 2
}
